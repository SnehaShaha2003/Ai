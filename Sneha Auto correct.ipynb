{
  "metadata": {
    "language_info": {
      "codemirror_mode": {
        "name": "python",
        "version": 3
      },
      "file_extension": ".py",
      "mimetype": "text/x-python",
      "name": "python",
      "nbconvert_exporter": "python",
      "pygments_lexer": "ipython3",
      "version": "3.8"
    },
    "kernelspec": {
      "name": "python",
      "display_name": "Python (Pyodide)",
      "language": "python"
    }
  },
  "nbformat_minor": 4,
  "nbformat": 4,
  "cells": [
    {
      "cell_type": "code",
      "source": "import numpy as np\nfrom functools import lru_cache\n\n# List of words for reference\nword_list = [\"apple\", \"banana\", \"cherry\", \"grape\", \"orange\", \"pear\", \"pineapple\"]\n\n# Function to calculate Levenshtein distance between two words\ndef levenshtein_distance(s1, s2):\n    if len(s1) > len(s2):\n        s1, s2 = s2, s1\n\n    distances = range(len(s1) + 1)\n    for index2, char2 in enumerate(s2):\n        new_distances = [index2 + 1]\n        for index1, char1 in enumerate(s1):\n            if char1 == char2:\n                new_distances.append(distances[index1])\n            else:\n                new_distances.append(1 + min((distances[index1], distances[index1 + 1], new_distances[-1])))\n        distances = new_distances\n\n    return distances[-1]\n\n# Function to perform auto-correction\n@lru_cache(maxsize=None)\ndef auto_correct(input_word):\n    closest_word = min(word_list, key=lambda word: levenshtein_distance(input_word, word))\n    return closest_word if levenshtein_distance(input_word, closest_word) <= 2 else \"No suggestion\"\n\n# Test the auto-correct tool\ninput_word = \"oraneg\"\ncorrected_word = auto_correct(input_word)\nprint(f\"Original Word: {input_word}\")\nprint(f\"Corrected Word: {corrected_word}\")\n",
      "metadata": {},
      "execution_count": null,
      "outputs": []
    }
  ]
}