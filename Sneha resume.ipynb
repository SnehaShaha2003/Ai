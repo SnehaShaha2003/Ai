{
  "metadata": {
    "language_info": {
      "codemirror_mode": {
        "name": "python",
        "version": 3
      },
      "file_extension": ".py",
      "mimetype": "text/x-python",
      "name": "python",
      "nbconvert_exporter": "python",
      "pygments_lexer": "ipython3",
      "version": "3.8"
    },
    "kernelspec": {
      "name": "python",
      "display_name": "Python (Pyodide)",
      "language": "python"
    }
  },
  "nbformat_minor": 4,
  "nbformat": 4,
  "cells": [
    {
      "cell_type": "code",
      "source": "import nltk\nfrom nltk.tokenize import word_tokenize\nfrom nltk.corpus import stopwords\n\n# Sample job description\njob_description = \"We are looking for a skilled software engineer with experience in Python and machine learning.\"\n\n# Sample resumes\nresumes = [\n    \"Experienced software developer with expertise in Python and data analysis.\",\n    \"Recent graduate with strong programming skills in Java and C++.\",\n    \"Machine learning enthusiast with a background in mathematics and statistics.\",\n]\n",
      "metadata": {
        "trusted": true
      },
      "execution_count": null,
      "outputs": []
    },
    {
      "cell_type": "code",
      "source": "\n# Tokenize the job description and resumes\njob_tokens = word_tokenize(job_description.lower())\nresume_tokens = [word_tokenize(resume.lower()) for resume in resumes]\n\n# Create a set of stopwords\nstop_words = set(stopwords.words('english'))\n",
      "metadata": {
        "trusted": true
      },
      "execution_count": null,
      "outputs": []
    },
    {
      "cell_type": "code",
      "source": "\n# Find matching resumes\nmatching_resumes = []\nfor idx, resume_tokens in enumerate(resume_tokens):\n    filtered_tokens = [word for word in resume_tokens if word not in stop_words]\n    common_words = set(filtered_tokens).intersection(job_tokens)\n    \n    if len(common_words) > 1:\n        matching_resumes.append(idx)\n",
      "metadata": {
        "trusted": true
      },
      "execution_count": null,
      "outputs": []
    },
    {
      "cell_type": "code",
      "source": "\n# Print the matching resumes\nprint(\"Matching Resumes:\")\nfor idx in matching_resumes:\n    print(resumes[idx])\n",
      "metadata": {},
      "execution_count": null,
      "outputs": []
    }
  ]
}